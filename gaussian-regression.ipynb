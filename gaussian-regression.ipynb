{
 "cells": [
  {
   "cell_type": "code",
   "execution_count": 47,
   "metadata": {},
   "outputs": [],
   "source": [
    "import numpy as np\n",
    "import pandas as pd\n",
    "import matplotlib.pyplot as plt\n",
    "import seaborn as sns\n",
    "\n",
    "from sklearn.preprocessing import MinMaxScaler\n",
    "from sklearn.gaussian_process import GaussianProcessRegressor, GaussianProcessClassifier\n",
    "from sklearn.metrics import mean_squared_error, mean_absolute_error, auc, f1_score, balanced_accuracy_score, roc_curve\n",
    "from sklearn.model_selection import train_test_split\n",
    "from math import sqrt\n",
    "\n",
    "from sklearn.datasets import load_boston, load_breast_cancer\n",
    "from sklearn.gaussian_process.kernels import *"
   ]
  },
  {
   "cell_type": "markdown",
   "metadata": {},
   "source": [
    "<h4>Regression (Boston housing dataset)</h4>"
   ]
  },
  {
   "cell_type": "code",
   "execution_count": 17,
   "metadata": {},
   "outputs": [],
   "source": [
    "# loading the problem\n",
    "X, y = load_boston(return_X_y=True)\n",
    "X = pd.DataFrame(X)\n",
    "\n",
    "scaler = MinMaxScaler()\n",
    "y = scaler.fit_transform(y.reshape(-1, 1))"
   ]
  },
  {
   "cell_type": "code",
   "execution_count": 18,
   "metadata": {},
   "outputs": [],
   "source": [
    "# creating the train and validation datasets\n",
    "X_train, X_test, y_train, y_test = train_test_split(X, y, test_size=0.2, random_state=0)"
   ]
  },
  {
   "cell_type": "code",
   "execution_count": 31,
   "metadata": {},
   "outputs": [],
   "source": [
    "#https://scikit-learn.org/stable/modules/classes.html#module-sklearn.gaussian_process\n",
    "#https://scikit-learn.org/stable/modules/gaussian_process.html#gp-kernels\n",
    "kernels = {'Dot-Product and White': DotProduct() + WhiteKernel(), \\\n",
    "           'RBF and White': RBF() + WhiteKernel(), \\\n",
    "           'RBF': RBF(), \\\n",
    "           'Rational Quadratic': RationalQuadratic(), \\\n",
    "           'Rational Quadratic and White': RationalQuadratic() + WhiteKernel(), \\\n",
    "           'Matern': Matern(), \\\n",
    "           'Matern and White': Matern() + WhiteKernel(),\\\n",
    "           'Constant': ConstantKernel(), \\\n",
    "           'Constant and White': ConstantKernel() + WhiteKernel()}"
   ]
  },
  {
   "cell_type": "code",
   "execution_count": 33,
   "metadata": {},
   "outputs": [
    {
     "data": {
      "text/html": [
       "<div>\n",
       "<style scoped>\n",
       "    .dataframe tbody tr th:only-of-type {\n",
       "        vertical-align: middle;\n",
       "    }\n",
       "\n",
       "    .dataframe tbody tr th {\n",
       "        vertical-align: top;\n",
       "    }\n",
       "\n",
       "    .dataframe thead th {\n",
       "        text-align: right;\n",
       "    }\n",
       "</style>\n",
       "<table border=\"1\" class=\"dataframe\">\n",
       "  <thead>\n",
       "    <tr style=\"text-align: right;\">\n",
       "      <th></th>\n",
       "      <th>Kernel</th>\n",
       "      <th>MAE</th>\n",
       "      <th>RMSE</th>\n",
       "    </tr>\n",
       "  </thead>\n",
       "  <tbody>\n",
       "    <tr>\n",
       "      <th>0</th>\n",
       "      <td>Dot-Product and White</td>\n",
       "      <td>0.085055</td>\n",
       "      <td>0.128512</td>\n",
       "    </tr>\n",
       "    <tr>\n",
       "      <th>1</th>\n",
       "      <td>RBF and White</td>\n",
       "      <td>0.083953</td>\n",
       "      <td>0.122438</td>\n",
       "    </tr>\n",
       "    <tr>\n",
       "      <th>2</th>\n",
       "      <td>RBF</td>\n",
       "      <td>0.115605</td>\n",
       "      <td>0.179653</td>\n",
       "    </tr>\n",
       "    <tr>\n",
       "      <th>3</th>\n",
       "      <td>Rational Quadratic</td>\n",
       "      <td>0.094191</td>\n",
       "      <td>0.147125</td>\n",
       "    </tr>\n",
       "    <tr>\n",
       "      <th>4</th>\n",
       "      <td>Rational Quadratic and White</td>\n",
       "      <td>0.083953</td>\n",
       "      <td>0.122437</td>\n",
       "    </tr>\n",
       "    <tr>\n",
       "      <th>5</th>\n",
       "      <td>Matern</td>\n",
       "      <td>0.083188</td>\n",
       "      <td>0.124394</td>\n",
       "    </tr>\n",
       "    <tr>\n",
       "      <th>6</th>\n",
       "      <td>Matern and White</td>\n",
       "      <td>0.082919</td>\n",
       "      <td>0.122313</td>\n",
       "    </tr>\n",
       "    <tr>\n",
       "      <th>7</th>\n",
       "      <td>Constant</td>\n",
       "      <td>0.138890</td>\n",
       "      <td>0.200717</td>\n",
       "    </tr>\n",
       "    <tr>\n",
       "      <th>8</th>\n",
       "      <td>Constant and White</td>\n",
       "      <td>0.138891</td>\n",
       "      <td>0.200718</td>\n",
       "    </tr>\n",
       "  </tbody>\n",
       "</table>\n",
       "</div>"
      ],
      "text/plain": [
       "                         Kernel       MAE      RMSE\n",
       "0         Dot-Product and White  0.085055  0.128512\n",
       "1                 RBF and White  0.083953  0.122438\n",
       "2                           RBF  0.115605  0.179653\n",
       "3            Rational Quadratic  0.094191  0.147125\n",
       "4  Rational Quadratic and White  0.083953  0.122437\n",
       "5                        Matern  0.083188  0.124394\n",
       "6              Matern and White  0.082919  0.122313\n",
       "7                      Constant  0.138890  0.200717\n",
       "8            Constant and White  0.138891  0.200718"
      ]
     },
     "execution_count": 33,
     "metadata": {},
     "output_type": "execute_result"
    }
   ],
   "source": [
    "# calculating the metrics\n",
    "df_results_regression = pd.DataFrame(columns=['Kernel', 'MAE', 'RMSE'])\n",
    "\n",
    "for kernel in kernels:\n",
    "    gpr = GaussianProcessRegressor(kernel=kernels[kernel], random_state=0, normalize_y=True).fit(X_train, y_train)\n",
    "    predictions = gpr.predict(X_test)\n",
    "    mae = mean_absolute_error(y_test, predictions)\n",
    "    rmse = sqrt(mean_squared_error(y_test, predictions))\n",
    "    df_results_regression = df_results_regression.append({'Kernel': kernel, \\\n",
    "                                                          'MAE': mae, 'RMSE': rmse}, ignore_index=True)\n",
    "\n",
    "df_results_regression"
   ]
  },
  {
   "cell_type": "markdown",
   "metadata": {},
   "source": [
    "<h4>Classification (Breast cancer dataset)</h4>"
   ]
  },
  {
   "cell_type": "code",
   "execution_count": 36,
   "metadata": {},
   "outputs": [],
   "source": [
    "# loading the problem\n",
    "X, y = load_breast_cancer(return_X_y=True)\n",
    "X = pd.DataFrame(X)"
   ]
  },
  {
   "cell_type": "code",
   "execution_count": 37,
   "metadata": {},
   "outputs": [],
   "source": [
    "# creating the train and validation datasets\n",
    "X_train, X_test, y_train, y_test = train_test_split(X, y, test_size=0.2, random_state=0)"
   ]
  },
  {
   "cell_type": "code",
   "execution_count": 40,
   "metadata": {},
   "outputs": [],
   "source": [
    "# calculating the metrics\n",
    "df_results_classification = pd.DataFrame(columns=['Kernel', 'AUC', 'F-score', 'Balanced Accuracy'])\n",
    "\n",
    "for kernel in kernels:\n",
    "    gpr = GaussianProcessClassifier(kernel=kernels[kernel], random_state=0, n_jobs=-1, max_iter_predict=1000).fit(X_train, y_train)\n",
    "    predictions = gpr.predict(X_test)\n",
    "    \n",
    "    fpr, tpr, thresholds = roc_curve(y_test, predictions)\n",
    "    auc_pred = auc(fpr, tpr)\n",
    "\n",
    "    f1_score_pred = f1_score(y_test, predictions)\n",
    "    bal_accuracy_score = balanced_accuracy_score(y_test, predictions)\n",
    "    \n",
    "    df_results_classification = df_results_classification.append({'Kernel': kernel, \\\n",
    "                                                                  'AUC': auc_pred, \\\n",
    "                                                                  'F-score': f1_score_pred, \\\n",
    "                                                                  'Balanced Accur'}, ignore_index=True)\n",
    "\n",
    "df_results_regression"
   ]
  },
  {
   "cell_type": "code",
   "execution_count": 48,
   "metadata": {},
   "outputs": [],
   "source": [
    "gpr = GaussianProcessClassifier(kernel=kernels['RBF'], random_state=0, n_jobs=-1, max_iter_predict=1000).fit(X_train, y_train)\n",
    "predictions = gpr.predict(X_test)\n",
    "\n"
   ]
  },
  {
   "cell_type": "code",
   "execution_count": 51,
   "metadata": {},
   "outputs": [
    {
     "data": {
      "text/plain": [
       "0.9318831375039694"
      ]
     },
     "execution_count": 51,
     "metadata": {},
     "output_type": "execute_result"
    }
   ],
   "source": [
    "auc_pred"
   ]
  },
  {
   "cell_type": "code",
   "execution_count": null,
   "metadata": {},
   "outputs": [],
   "source": [
    "# calculating the metrics\n",
    "df_results_regression = pd.DataFrame(columns=['Kernel', 'MAE', 'RMSE'])\n",
    "\n",
    "for kernel in kernels:\n",
    "    gpr = GaussianProcessRegressor(kernel=kernels[kernel], random_state=0, normalize_y=True).fit(X_train, y_train)\n",
    "    predictions = gpr.predict(X_test)\n",
    "    mae = mean_absolute_error(y_test, predictions)\n",
    "    rmse = sqrt(mean_squared_error(y_test, predictions))\n",
    "    df_results_regression = df_results.append({'Kernel': kernel, 'MAE': mae, 'RMSE': rmse}, ignore_index=True)\n",
    "\n",
    "df_results_regression"
   ]
  },
  {
   "cell_type": "code",
   "execution_count": null,
   "metadata": {},
   "outputs": [],
   "source": []
  },
  {
   "cell_type": "code",
   "execution_count": null,
   "metadata": {},
   "outputs": [],
   "source": [
    "# ensuring we are using the GPU\n",
    "from tensorflow.python.client import device_lib\n",
    "print(device_lib.list_local_devices())"
   ]
  },
  {
   "cell_type": "code",
   "execution_count": null,
   "metadata": {},
   "outputs": [],
   "source": [
    "def create_model(kernel_size, lstm_dimensionality, dense_dimensionality, number_dense_layers):\n",
    "    model = Sequential()\n",
    "    model.add(Conv1D(filters=limit, kernel_size=kernel_size, strides=1, padding='causal', activation='relu', input_shape=[None, 1]))\n",
    "    model.add(LSTM(lstm_dimensionality))\n",
    "\n",
    "    for _ in range(number_dense_layers):\n",
    "        model.add(Dense(dense_dimensionality))\n",
    "\n",
    "    model.add(Dense(1))\n",
    "    model.compile(loss='mean_squared_error', optimizer='adam', metrics=['mean_squared_error', 'mean_absolute_error'])\n",
    "\n",
    "    #model.summary()\n",
    "    return model"
   ]
  },
  {
   "cell_type": "code",
   "execution_count": null,
   "metadata": {},
   "outputs": [],
   "source": [
    "# hyperparameters\n",
    "kernel_size = limit\n",
    "lstm_dimensionality = [limit, limit*2]\n",
    "dense_dimensionality = [10, 50, 100]\n",
    "number_dense_layers = [1, 4, 8]\n",
    "\n",
    "batch_size = 512\n",
    "epochs = 100"
   ]
  },
  {
   "cell_type": "code",
   "execution_count": null,
   "metadata": {},
   "outputs": [],
   "source": [
    "models = {}\n",
    "for lstm_dim in lstm_dimensionality:\n",
    "    for dense_dim in dense_dimensionality:\n",
    "        for num_layers in number_dense_layers:\n",
    "            display(f'LSTM dimensionality: {lstm_dim}, dense layer dimensionality: {dense_dim} @ {num_layers} dense layers.')\n",
    "            model = create_model(kernel_size, lstm_dim, dense_dim, num_layers)\n",
    "            model.fit(x_train, y_train, epochs=epochs, batch_size=batch_size, verbose=0)\n",
    "            models[(lstm_dim, dense_dim, num_layers)] = model"
   ]
  },
  {
   "cell_type": "code",
   "execution_count": null,
   "metadata": {},
   "outputs": [],
   "source": [
    "# retrieving the predictions\n",
    "df_comparison = df_validation[['Datetime', target]].copy()\n",
    "df_comparison[target] = scaler.inverse_transform(y_test.reshape(-1, 1)).flatten()\n",
    "\n",
    "for model in models:\n",
    "    df_comparison[str(model)] = scaler.inverse_transform(models[model].predict(x_test)).flatten()"
   ]
  },
  {
   "cell_type": "code",
   "execution_count": null,
   "metadata": {},
   "outputs": [],
   "source": [
    "# calculating the metrics\n",
    "df_results = pd.DataFrame(columns=['LSTM Dimensionality', 'Dense Dimensionality', 'Dense Layers', 'MAE', 'RMSE'])\n",
    "\n",
    "for model in models:\n",
    "    mae = mean_absolute_error(df_comparison[target], df_comparison[str(model)])\n",
    "    rmse = sqrt(mean_squared_error(df_comparison[target], df_comparison[str(model)]))\n",
    "    df_results = df_results.append({'LSTM Dimensionality': model[0], 'Dense Dimensionality': model[1], \\\n",
    "                                    'Dense Layers': model[2], 'MAE': mae, 'RMSE': rmse}, ignore_index=True)\n",
    "\n",
    "for col in ['LSTM Dimensionality', 'Dense Dimensionality', 'Dense Layers']:\n",
    "    df_results[col] = df_results[col].astype(int)\n",
    "\n",
    "df_results"
   ]
  },
  {
   "cell_type": "code",
   "execution_count": null,
   "metadata": {
    "scrolled": true
   },
   "outputs": [],
   "source": [
    "df_plot = pd.melt(df_comparison, id_vars=['Datetime'], value_vars=list(set(df_comparison.columns) - set(['Datetime'])))\n",
    "\n",
    "for model in models:    \n",
    "    plt.figure(figsize=(19, 6))\n",
    "    sns.lineplot(x='Datetime', y='value', hue='variable', data=df_plot[(df_plot['variable']==target) | (df_plot['variable']==str(model))])\n",
    "    plt.show()"
   ]
  },
  {
   "cell_type": "code",
   "execution_count": null,
   "metadata": {},
   "outputs": [],
   "source": [
    "df_results.to_csv('results.csv', encoding='utf-8', index=False)"
   ]
  },
  {
   "cell_type": "code",
   "execution_count": null,
   "metadata": {},
   "outputs": [],
   "source": []
  }
 ],
 "metadata": {
  "kernelspec": {
   "display_name": "Python 3",
   "language": "python",
   "name": "python3"
  },
  "language_info": {
   "codemirror_mode": {
    "name": "ipython",
    "version": 3
   },
   "file_extension": ".py",
   "mimetype": "text/x-python",
   "name": "python",
   "nbconvert_exporter": "python",
   "pygments_lexer": "ipython3",
   "version": "3.7.6"
  }
 },
 "nbformat": 4,
 "nbformat_minor": 4
}
