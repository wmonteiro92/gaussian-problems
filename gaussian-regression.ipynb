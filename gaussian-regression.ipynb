{
 "cells": [
  {
   "cell_type": "code",
   "execution_count": 4,
   "metadata": {},
   "outputs": [],
   "source": [
    "import numpy as np\n",
    "import pandas as pd\n",
    "import matplotlib.pyplot as plt\n",
    "import seaborn as sns\n",
    "\n",
    "from sklearn.preprocessing import MinMaxScaler\n",
    "from sklearn.gaussian_process import GaussianProcessRegressor, GaussianProcessClassifier\n",
    "from sklearn.metrics import mean_squared_error, mean_absolute_error, auc, f1_score, balanced_accuracy_score, roc_curve\n",
    "from sklearn.model_selection import train_test_split\n",
    "from math import sqrt\n",
    "\n",
    "from sklearn.datasets import load_boston, load_breast_cancer\n",
    "from sklearn.gaussian_process.kernels import *"
   ]
  },
  {
   "cell_type": "markdown",
   "metadata": {},
   "source": [
    "<h4>Regression (Boston housing dataset)</h4>"
   ]
  },
  {
   "cell_type": "code",
   "execution_count": 5,
   "metadata": {},
   "outputs": [],
   "source": [
    "# loading the problem\n",
    "X, y = load_boston(return_X_y=True)\n",
    "X = pd.DataFrame(X)\n",
    "\n",
    "scaler = MinMaxScaler()\n",
    "y = scaler.fit_transform(y.reshape(-1, 1))"
   ]
  },
  {
   "cell_type": "code",
   "execution_count": 6,
   "metadata": {},
   "outputs": [],
   "source": [
    "# creating the train and validation datasets\n",
    "X_train, X_test, y_train, y_test = train_test_split(X, y, test_size=0.2, random_state=0)"
   ]
  },
  {
   "cell_type": "code",
   "execution_count": 7,
   "metadata": {},
   "outputs": [],
   "source": [
    "#https://scikit-learn.org/stable/modules/classes.html#module-sklearn.gaussian_process\n",
    "#https://scikit-learn.org/stable/modules/gaussian_process.html#gp-kernels\n",
    "kernels = {'Dot-Product and White': DotProduct() + WhiteKernel(), \\\n",
    "           'RBF and White': RBF() + WhiteKernel(), \\\n",
    "           'RBF': RBF(), \\\n",
    "           'Rational Quadratic': RationalQuadratic(), \\\n",
    "           'Rational Quadratic and White': RationalQuadratic() + WhiteKernel(), \\\n",
    "           'Matern': Matern(), \\\n",
    "           'Matern and White': Matern() + WhiteKernel(),\\\n",
    "           'Constant': ConstantKernel(), \\\n",
    "           'Constant and White': ConstantKernel() + WhiteKernel()}"
   ]
  },
  {
   "cell_type": "code",
   "execution_count": 8,
   "metadata": {},
   "outputs": [
    {
     "data": {
      "text/html": [
       "<div>\n",
       "<style scoped>\n",
       "    .dataframe tbody tr th:only-of-type {\n",
       "        vertical-align: middle;\n",
       "    }\n",
       "\n",
       "    .dataframe tbody tr th {\n",
       "        vertical-align: top;\n",
       "    }\n",
       "\n",
       "    .dataframe thead th {\n",
       "        text-align: right;\n",
       "    }\n",
       "</style>\n",
       "<table border=\"1\" class=\"dataframe\">\n",
       "  <thead>\n",
       "    <tr style=\"text-align: right;\">\n",
       "      <th></th>\n",
       "      <th>Kernel</th>\n",
       "      <th>MAE</th>\n",
       "      <th>RMSE</th>\n",
       "    </tr>\n",
       "  </thead>\n",
       "  <tbody>\n",
       "    <tr>\n",
       "      <th>0</th>\n",
       "      <td>Dot-Product and White</td>\n",
       "      <td>0.084833</td>\n",
       "      <td>0.128938</td>\n",
       "    </tr>\n",
       "    <tr>\n",
       "      <th>1</th>\n",
       "      <td>RBF and White</td>\n",
       "      <td>0.089682</td>\n",
       "      <td>0.135016</td>\n",
       "    </tr>\n",
       "    <tr>\n",
       "      <th>2</th>\n",
       "      <td>RBF</td>\n",
       "      <td>0.119405</td>\n",
       "      <td>0.177056</td>\n",
       "    </tr>\n",
       "    <tr>\n",
       "      <th>3</th>\n",
       "      <td>Rational Quadratic</td>\n",
       "      <td>0.095602</td>\n",
       "      <td>0.150002</td>\n",
       "    </tr>\n",
       "    <tr>\n",
       "      <th>4</th>\n",
       "      <td>Rational Quadratic and White</td>\n",
       "      <td>0.087070</td>\n",
       "      <td>0.134522</td>\n",
       "    </tr>\n",
       "    <tr>\n",
       "      <th>5</th>\n",
       "      <td>Matern</td>\n",
       "      <td>0.099916</td>\n",
       "      <td>0.148630</td>\n",
       "    </tr>\n",
       "    <tr>\n",
       "      <th>6</th>\n",
       "      <td>Matern and White</td>\n",
       "      <td>0.087220</td>\n",
       "      <td>0.133543</td>\n",
       "    </tr>\n",
       "    <tr>\n",
       "      <th>7</th>\n",
       "      <td>Constant</td>\n",
       "      <td>0.138891</td>\n",
       "      <td>0.200718</td>\n",
       "    </tr>\n",
       "    <tr>\n",
       "      <th>8</th>\n",
       "      <td>Constant and White</td>\n",
       "      <td>0.138891</td>\n",
       "      <td>0.200718</td>\n",
       "    </tr>\n",
       "  </tbody>\n",
       "</table>\n",
       "</div>"
      ],
      "text/plain": [
       "                         Kernel       MAE      RMSE\n",
       "0         Dot-Product and White  0.084833  0.128938\n",
       "1                 RBF and White  0.089682  0.135016\n",
       "2                           RBF  0.119405  0.177056\n",
       "3            Rational Quadratic  0.095602  0.150002\n",
       "4  Rational Quadratic and White  0.087070  0.134522\n",
       "5                        Matern  0.099916  0.148630\n",
       "6              Matern and White  0.087220  0.133543\n",
       "7                      Constant  0.138891  0.200718\n",
       "8            Constant and White  0.138891  0.200718"
      ]
     },
     "execution_count": 8,
     "metadata": {},
     "output_type": "execute_result"
    }
   ],
   "source": [
    "# calculating the metrics\n",
    "df_results_regression = pd.DataFrame(columns=['Kernel', 'MAE', 'RMSE'])\n",
    "\n",
    "for kernel in kernels:\n",
    "    gpr = GaussianProcessRegressor(kernel=kernels[kernel], random_state=0, normalize_y=True).fit(X_train, y_train)\n",
    "    predictions = gpr.predict(X_test)\n",
    "    mae = mean_absolute_error(y_test, predictions)\n",
    "    rmse = sqrt(mean_squared_error(y_test, predictions))\n",
    "    df_results_regression = df_results_regression.append({'Kernel': kernel, \\\n",
    "                                                          'MAE': mae, 'RMSE': rmse}, ignore_index=True)\n",
    "\n",
    "df_results_regression"
   ]
  },
  {
   "cell_type": "code",
   "execution_count": 9,
   "metadata": {},
   "outputs": [],
   "source": [
    "df_results_regression.to_csv('results_regression.csv', encoding='utf-8', index=False)"
   ]
  },
  {
   "cell_type": "markdown",
   "metadata": {},
   "source": [
    "<h4>Classification (Breast cancer dataset)</h4>"
   ]
  },
  {
   "cell_type": "code",
   "execution_count": 10,
   "metadata": {},
   "outputs": [],
   "source": [
    "# loading the problem\n",
    "X, y = load_breast_cancer(return_X_y=True)\n",
    "X = pd.DataFrame(X)"
   ]
  },
  {
   "cell_type": "code",
   "execution_count": 11,
   "metadata": {},
   "outputs": [],
   "source": [
    "# creating the train and validation datasets\n",
    "X_train, X_test, y_train, y_test = train_test_split(X, y, test_size=0.2, random_state=0)"
   ]
  },
  {
   "cell_type": "code",
   "execution_count": 13,
   "metadata": {},
   "outputs": [
    {
     "data": {
      "text/html": [
       "<div>\n",
       "<style scoped>\n",
       "    .dataframe tbody tr th:only-of-type {\n",
       "        vertical-align: middle;\n",
       "    }\n",
       "\n",
       "    .dataframe tbody tr th {\n",
       "        vertical-align: top;\n",
       "    }\n",
       "\n",
       "    .dataframe thead th {\n",
       "        text-align: right;\n",
       "    }\n",
       "</style>\n",
       "<table border=\"1\" class=\"dataframe\">\n",
       "  <thead>\n",
       "    <tr style=\"text-align: right;\">\n",
       "      <th></th>\n",
       "      <th>Kernel</th>\n",
       "      <th>AUC</th>\n",
       "      <th>F-score</th>\n",
       "      <th>Balanced Accuracy</th>\n",
       "    </tr>\n",
       "  </thead>\n",
       "  <tbody>\n",
       "    <tr>\n",
       "      <th>0</th>\n",
       "      <td>Dot-Product and White</td>\n",
       "      <td>0.952048</td>\n",
       "      <td>0.953846</td>\n",
       "      <td>0.952048</td>\n",
       "    </tr>\n",
       "    <tr>\n",
       "      <th>1</th>\n",
       "      <td>RBF and White</td>\n",
       "      <td>0.931883</td>\n",
       "      <td>0.948905</td>\n",
       "      <td>0.931883</td>\n",
       "    </tr>\n",
       "    <tr>\n",
       "      <th>2</th>\n",
       "      <td>RBF</td>\n",
       "      <td>0.931883</td>\n",
       "      <td>0.948905</td>\n",
       "      <td>0.931883</td>\n",
       "    </tr>\n",
       "    <tr>\n",
       "      <th>3</th>\n",
       "      <td>Rational Quadratic</td>\n",
       "      <td>0.924420</td>\n",
       "      <td>0.941176</td>\n",
       "      <td>0.924420</td>\n",
       "    </tr>\n",
       "    <tr>\n",
       "      <th>4</th>\n",
       "      <td>Rational Quadratic and White</td>\n",
       "      <td>0.924420</td>\n",
       "      <td>0.941176</td>\n",
       "      <td>0.924420</td>\n",
       "    </tr>\n",
       "    <tr>\n",
       "      <th>5</th>\n",
       "      <td>Matern</td>\n",
       "      <td>0.942521</td>\n",
       "      <td>0.955882</td>\n",
       "      <td>0.942521</td>\n",
       "    </tr>\n",
       "    <tr>\n",
       "      <th>6</th>\n",
       "      <td>Matern and White</td>\n",
       "      <td>0.942521</td>\n",
       "      <td>0.955882</td>\n",
       "      <td>0.942521</td>\n",
       "    </tr>\n",
       "    <tr>\n",
       "      <th>7</th>\n",
       "      <td>Constant</td>\n",
       "      <td>0.500000</td>\n",
       "      <td>0.740331</td>\n",
       "      <td>0.500000</td>\n",
       "    </tr>\n",
       "    <tr>\n",
       "      <th>8</th>\n",
       "      <td>Constant and White</td>\n",
       "      <td>0.500000</td>\n",
       "      <td>0.740331</td>\n",
       "      <td>0.500000</td>\n",
       "    </tr>\n",
       "  </tbody>\n",
       "</table>\n",
       "</div>"
      ],
      "text/plain": [
       "                         Kernel       AUC   F-score  Balanced Accuracy\n",
       "0         Dot-Product and White  0.952048  0.953846           0.952048\n",
       "1                 RBF and White  0.931883  0.948905           0.931883\n",
       "2                           RBF  0.931883  0.948905           0.931883\n",
       "3            Rational Quadratic  0.924420  0.941176           0.924420\n",
       "4  Rational Quadratic and White  0.924420  0.941176           0.924420\n",
       "5                        Matern  0.942521  0.955882           0.942521\n",
       "6              Matern and White  0.942521  0.955882           0.942521\n",
       "7                      Constant  0.500000  0.740331           0.500000\n",
       "8            Constant and White  0.500000  0.740331           0.500000"
      ]
     },
     "execution_count": 13,
     "metadata": {},
     "output_type": "execute_result"
    }
   ],
   "source": [
    "# calculating the metrics\n",
    "df_results_classification = pd.DataFrame(columns=['Kernel', 'AUC', 'F-score', 'Balanced Accuracy'])\n",
    "\n",
    "for kernel in kernels:\n",
    "    gpr = GaussianProcessClassifier(kernel=kernels[kernel], random_state=0, n_jobs=-1, max_iter_predict=1000).fit(X_train, y_train)\n",
    "    predictions = gpr.predict(X_test)\n",
    "    \n",
    "    fpr, tpr, thresholds = roc_curve(y_test, predictions)\n",
    "    auc_pred = auc(fpr, tpr)\n",
    "\n",
    "    f1_score_pred = f1_score(y_test, predictions)\n",
    "    bal_accuracy_score = balanced_accuracy_score(y_test, predictions)\n",
    "    \n",
    "    df_results_classification = df_results_classification.append({'Kernel': kernel, \\\n",
    "                                                                  'AUC': auc_pred, \\\n",
    "                                                                  'F-score': f1_score_pred, \\\n",
    "                                                                  'Balanced Accuracy': bal_accuracy_score}, ignore_index=True)\n",
    "\n",
    "df_results_classification"
   ]
  },
  {
   "cell_type": "code",
   "execution_count": 14,
   "metadata": {},
   "outputs": [],
   "source": [
    "df_results_classification.to_csv('results_classification.csv', encoding='utf-8', index=False)"
   ]
  },
  {
   "cell_type": "code",
   "execution_count": null,
   "metadata": {},
   "outputs": [],
   "source": []
  }
 ],
 "metadata": {
  "kernelspec": {
   "display_name": "Python 3",
   "language": "python",
   "name": "python3"
  },
  "language_info": {
   "codemirror_mode": {
    "name": "ipython",
    "version": 3
   },
   "file_extension": ".py",
   "mimetype": "text/x-python",
   "name": "python",
   "nbconvert_exporter": "python",
   "pygments_lexer": "ipython3",
   "version": "3.8.3"
  }
 },
 "nbformat": 4,
 "nbformat_minor": 4
}
